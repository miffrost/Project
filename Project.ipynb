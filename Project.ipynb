{
 "cells": [
  {
   "cell_type": "markdown",
   "metadata": {},
   "source": [
    "# Traffic Accidents in Uusimaa"
   ]
  },
  {
   "cell_type": "code",
   "execution_count": 1,
   "metadata": {},
   "outputs": [],
   "source": [
    "import ipywidgets as widgets\n",
    "from ipywidgets import interact, interact_manual, IntSlider, interactive\n",
    "\n",
    "import numpy as np\n",
    "\n",
    "import pandas as pd\n",
    "from pandas.io.json import json_normalize\n",
    "\n",
    "import matplotlib\n",
    "import matplotlib.pyplot as plt\n",
    "import matplotlib.patches as mpatches\n",
    "\n",
    "import sklearn\n",
    "from sklearn.linear_model import LinearRegression\n",
    "\n",
    "import json\n",
    "from sympy import geometry\n",
    "from pyproj import Proj, transform\n",
    "\n",
    "import folium\n",
    "from folium import plugins\n",
    "from folium.plugins import HeatMap\n",
    "\n",
    "import webbrowser\n",
    "import geopandas as gp\n",
    "\n",
    "pd.options.mode.chained_assignment = None"
   ]
  },
  {
   "cell_type": "code",
   "execution_count": 2,
   "metadata": {},
   "outputs": [],
   "source": [
    "#Load the data\n",
    "s=['Espoo','Helsinki','Hyvinkää','Järvenpää','Karkkila',\n",
    "          'Kauniainen','Kerava','Kirkkonummi','Lohja','Mäntsälä',\n",
    "          'Nurmijärvi','Pornainen','Sipoo','Siuntio','Tuusula',\n",
    "          'Vantaa','Vihti','Lapinjärvi','Loviisa','Askola',\n",
    "          'Myrskylä','Porvoo','Pukkila','Hanko','Inkoo','Raasepori']\n",
    "\n",
    "c=['a single-class','a turning-class','a passing-class','a crossing-class','an encounter-class','a rear-end collision',\n",
    "    'a moped-class','a bicycle-class','a pedestrian-class','a moose-class','a deer-class','an other animal-class','unclassified']\n",
    "labels=['single','turn','pass','cross','enc','rear','mop',\n",
    "        'bike','ped','moose','deer','anim','oth']\n",
    "\n",
    "years=[2005 + i for i in range(13)]\n",
    "r1={}\n",
    "r2={}\n",
    "r3={}\n",
    "r4={}"
   ]
  },
  {
   "cell_type": "code",
   "execution_count": 3,
   "metadata": {},
   "outputs": [],
   "source": [
    "#1.\n",
    "i=0\n",
    "year=2005+i\n",
    "h={}\n",
    "accident=pd.read_excel('Data/{}/UusimaaAccident.xlsx'.format(year))\n",
    "#accident=accident[accident['munidesc'].isin(s)]\n",
    "data1=accident[['accidentId','dead','injr','munidesc']]\n",
    "level=[3*data1['dead'][i] + data1['injr'][i] for i in range(len(data1))]\n",
    "data1=pd.merge(data1,pd.Series(level,name='severlvl'),left_index=True,right_index=True)\n",
    "for mun in s:\n",
    "    v=dict(data1[data1['munidesc']==mun]['severlvl'].value_counts())\n",
    "    #Here we set the level of severity for each municipality of Uusimaa.\n",
    "    h[mun]=sum([(i+1)*v[i] for i in v.keys()])/sum(v.values())\n",
    "r1[year]=h\n",
    "data2=accident[['hour','acclass','munidesc']]\n",
    "data2.loc[data2['hour']==-1]=data2.loc[data2['hour']!=-1].mode()\n",
    "data2=data2[data2['munidesc'].isin(s)]\n",
    "#classes=dict()\n",
    "#classes=dict([(c[i],i+1) for i in np.arange(13)])\n",
    "r2[year]=data2\n",
    "    \n",
    "r3[year]=accident[accident['munidesc'].isin(s)]['munidesc'].value_counts()\n",
    "    \n",
    "loc=accident[['X','Y','dead','injr']]\n",
    "loc=loc.dropna(axis=0)\n",
    "accident['dead_new'] = accident['dead'].map(lambda x: x*3)\n",
    "accident['total'] = accident['dead_new'] +  accident['injr']\n",
    "loc['severlvl'] = accident['total']\n",
    "    #loc['month'] = accident['month']\n",
    "r4[year]=loc[['X','Y','severlvl']]\n"
   ]
  },
  {
   "cell_type": "code",
   "execution_count": 4,
   "metadata": {},
   "outputs": [],
   "source": [
    "#2.\n",
    "i=i+1\n",
    "year=2005+i\n",
    "h={}\n",
    "accident=pd.read_excel('Data/{}/UusimaaAccident.xlsx'.format(year))\n",
    "#accident=accident[accident['munidesc'].isin(s)]\n",
    "data1=accident[['accidentId','dead','injr','munidesc']]\n",
    "level=[3*data1['dead'][i] + data1['injr'][i] for i in range(len(data1))]\n",
    "data1=pd.merge(data1,pd.Series(level,name='severlvl'),left_index=True,right_index=True)\n",
    "for mun in s:\n",
    "    v=dict(data1[data1['munidesc']==mun]['severlvl'].value_counts())\n",
    "    #Here we set the level of severity for each municipality of Uusimaa.\n",
    "    h[mun]=sum([(i+1)*v[i] for i in v.keys()])/sum(v.values())\n",
    "r1[year]=h\n",
    "data2=accident[['hour','acclass','munidesc']]\n",
    "data2.loc[data2['hour']==-1,'hour']=data2.loc[data2['hour']!=-1,'hour'].mode()\n",
    "data2=data2[data2['munidesc'].isin(s)]\n",
    "#classes=dict()\n",
    "#classes=dict([(c[i],i+1) for i in np.arange(13)])\n",
    "r2[year]=data2\n",
    "    \n",
    "r3[year]=accident[accident['munidesc'].isin(s)]['munidesc'].value_counts()\n",
    "    \n",
    "loc=accident[['X','Y','dead','injr']]\n",
    "loc=loc.dropna(axis=0)\n",
    "accident['dead_new'] = accident['dead'].map(lambda x: x*3)\n",
    "accident['total'] = accident['dead_new'] +  accident['injr']\n",
    "loc['severlvl'] = accident['total']\n",
    "    #loc['month'] = accident['month']\n",
    "r4[year]=loc[['X','Y','severlvl']]"
   ]
  },
  {
   "cell_type": "code",
   "execution_count": 5,
   "metadata": {},
   "outputs": [],
   "source": [
    "#3.\n",
    "i=i+1\n",
    "year=2005+i\n",
    "h={}\n",
    "accident=pd.read_excel('Data/{}/UusimaaAccident.xlsx'.format(year))\n",
    "#accident=accident[accident['munidesc'].isin(s)]\n",
    "data1=accident[['accidentId','dead','injr','munidesc']]\n",
    "level=[3*data1['dead'][i] + data1['injr'][i] for i in range(len(data1))]\n",
    "data1=pd.merge(data1,pd.Series(level,name='severlvl'),left_index=True,right_index=True)\n",
    "for mun in s:\n",
    "    v=dict(data1[data1['munidesc']==mun]['severlvl'].value_counts())\n",
    "    #Here we set the level of severity for each municipality of Uusimaa.\n",
    "    h[mun]=sum([(i+1)*v[i] for i in v.keys()])/sum(v.values())\n",
    "r1[year]=h\n",
    "data2=accident[['hour','acclass','munidesc']]\n",
    "data2.loc[data2['hour']==-1,'hour']=data2.loc[data2['hour']!=-1,'hour'].mode()\n",
    "data2=data2[data2['munidesc'].isin(s)]\n",
    "#classes=dict()\n",
    "#classes=dict([(c[i],i+1) for i in np.arange(13)])\n",
    "r2[year]=data2\n",
    "    \n",
    "r3[year]=accident[accident['munidesc'].isin(s)]['munidesc'].value_counts()\n",
    "    \n",
    "loc=accident[['X','Y','dead','injr']]\n",
    "loc=loc.dropna(axis=0)\n",
    "accident['dead_new'] = accident['dead'].map(lambda x: x*3)\n",
    "accident['total'] = accident['dead_new'] +  accident['injr']\n",
    "loc['severlvl'] = accident['total']\n",
    "    #loc['month'] = accident['month']\n",
    "r4[year]=loc[['X','Y','severlvl']]"
   ]
  },
  {
   "cell_type": "code",
   "execution_count": 6,
   "metadata": {},
   "outputs": [],
   "source": [
    "#4.\n",
    "i=i+1\n",
    "year=2005+i\n",
    "h={}\n",
    "accident=pd.read_excel('Data/{}/UusimaaAccident.xlsx'.format(year))\n",
    "#accident=accident[accident['munidesc'].isin(s)]\n",
    "data1=accident[['accidentId','dead','injr','munidesc']]\n",
    "level=[3*data1['dead'][i] + data1['injr'][i] for i in range(len(data1))]\n",
    "data1=pd.merge(data1,pd.Series(level,name='severlvl'),left_index=True,right_index=True)\n",
    "for mun in s:\n",
    "    v=dict(data1[data1['munidesc']==mun]['severlvl'].value_counts())\n",
    "    #Here we set the level of severity for each municipality of Uusimaa.\n",
    "    h[mun]=sum([(i+1)*v[i] for i in v.keys()])/sum(v.values())\n",
    "r1[year]=h\n",
    "data2=accident[['hour','acclass','munidesc']]\n",
    "data2.loc[data2['hour']==-1,'hour']=data2.loc[data2['hour']!=-1,'hour'].mode()\n",
    "data2=data2[data2['munidesc'].isin(s)]\n",
    "#classes=dict()\n",
    "#classes=dict([(c[i],i+1) for i in np.arange(13)])\n",
    "r2[year]=data2\n",
    "    \n",
    "r3[year]=accident[accident['munidesc'].isin(s)]['munidesc'].value_counts()\n",
    "    \n",
    "loc=accident[['X','Y','dead','injr']]\n",
    "loc=loc.dropna(axis=0)\n",
    "accident['dead_new'] = accident['dead'].map(lambda x: x*3)\n",
    "accident['total'] = accident['dead_new'] +  accident['injr']\n",
    "loc['severlvl'] = accident['total']\n",
    "    #loc['month'] = accident['month']\n",
    "r4[year]=loc[['X','Y','severlvl']]"
   ]
  },
  {
   "cell_type": "code",
   "execution_count": 7,
   "metadata": {},
   "outputs": [],
   "source": [
    "#5.\n",
    "i=i+1\n",
    "year=2005+i\n",
    "h={}\n",
    "accident=pd.read_excel('Data/{}/UusimaaAccident.xlsx'.format(year))\n",
    "#accident=accident[accident['munidesc'].isin(s)]\n",
    "data1=accident[['accidentId','dead','injr','munidesc']]\n",
    "level=[3*data1['dead'][i] + data1['injr'][i] for i in range(len(data1))]\n",
    "data1=pd.merge(data1,pd.Series(level,name='severlvl'),left_index=True,right_index=True)\n",
    "for mun in s:\n",
    "    v=dict(data1[data1['munidesc']==mun]['severlvl'].value_counts())\n",
    "    #Here we set the level of severity for each municipality of Uusimaa.\n",
    "    h[mun]=sum([(i+1)*v[i] for i in v.keys()])/sum(v.values())\n",
    "r1[year]=h\n",
    "data2=accident[['hour','acclass','munidesc']]\n",
    "data2.loc[data2['hour']==-1,'hour']=data2.loc[data2['hour']!=-1,'hour'].mode()\n",
    "data2=data2[data2['munidesc'].isin(s)]\n",
    "#classes=dict()\n",
    "#classes=dict([(c[i],i+1) for i in np.arange(13)])\n",
    "r2[year]=data2\n",
    "    \n",
    "r3[year]=accident[accident['munidesc'].isin(s)]['munidesc'].value_counts()\n",
    "    \n",
    "loc=accident[['X','Y','dead','injr']]\n",
    "loc=loc.dropna(axis=0)\n",
    "accident['dead_new'] = accident['dead'].map(lambda x: x*3)\n",
    "accident['total'] = accident['dead_new'] +  accident['injr']\n",
    "loc['severlvl'] = accident['total']\n",
    "    #loc['month'] = accident['month']\n",
    "r4[year]=loc[['X','Y','severlvl']]"
   ]
  },
  {
   "cell_type": "code",
   "execution_count": 8,
   "metadata": {},
   "outputs": [],
   "source": [
    "#6.\n",
    "i=i+1\n",
    "year=2005+i\n",
    "h={}\n",
    "accident=pd.read_excel('Data/{}/UusimaaAccident.xlsx'.format(year))\n",
    "#accident=accident[accident['munidesc'].isin(s)]\n",
    "data1=accident[['accidentId','dead','injr','munidesc']]\n",
    "level=[3*data1['dead'][i] + data1['injr'][i] for i in range(len(data1))]\n",
    "data1=pd.merge(data1,pd.Series(level,name='severlvl'),left_index=True,right_index=True)\n",
    "for mun in s:\n",
    "    v=dict(data1[data1['munidesc']==mun]['severlvl'].value_counts())\n",
    "    #Here we set the level of severity for each municipality of Uusimaa.\n",
    "    h[mun]=sum([(i+1)*v[i] for i in v.keys()])/sum(v.values())\n",
    "r1[year]=h\n",
    "data2=accident[['hour','acclass','munidesc']]\n",
    "data2.loc[data2['hour']==-1,'hour']=data2.loc[data2['hour']!=-1,'hour'].mode()\n",
    "data2=data2[data2['munidesc'].isin(s)]\n",
    "#classes=dict()\n",
    "#classes=dict([(c[i],i+1) for i in np.arange(13)])\n",
    "r2[year]=data2\n",
    "    \n",
    "r3[year]=accident[accident['munidesc'].isin(s)]['munidesc'].value_counts()\n",
    "    \n",
    "loc=accident[['X','Y','dead','injr']]\n",
    "loc=loc.dropna(axis=0)\n",
    "accident['dead_new'] = accident['dead'].map(lambda x: x*3)\n",
    "accident['total'] = accident['dead_new'] +  accident['injr']\n",
    "loc['severlvl'] = accident['total']\n",
    "    #loc['month'] = accident['month']\n",
    "r4[year]=loc[['X','Y','severlvl']]"
   ]
  },
  {
   "cell_type": "code",
   "execution_count": 9,
   "metadata": {},
   "outputs": [],
   "source": [
    "#7.\n",
    "i=i+1\n",
    "year=2005+i\n",
    "h={}\n",
    "accident=pd.read_excel('Data/{}/UusimaaAccident.xlsx'.format(year))\n",
    "#accident=accident[accident['munidesc'].isin(s)]\n",
    "data1=accident[['accidentId','dead','injr','munidesc']]\n",
    "level=[3*data1['dead'][i] + data1['injr'][i] for i in range(len(data1))]\n",
    "data1=pd.merge(data1,pd.Series(level,name='severlvl'),left_index=True,right_index=True)\n",
    "for mun in s:\n",
    "    v=dict(data1[data1['munidesc']==mun]['severlvl'].value_counts())\n",
    "    #Here we set the level of severity for each municipality of Uusimaa.\n",
    "    h[mun]=sum([(i+1)*v[i] for i in v.keys()])/sum(v.values())\n",
    "r1[year]=h\n",
    "data2=accident[['hour','acclass','munidesc']]\n",
    "data2.loc[data2['hour']==-1,'hour']=data2.loc[data2['hour']!=-1,'hour'].mode()\n",
    "data2=data2[data2['munidesc'].isin(s)]\n",
    "#classes=dict()\n",
    "#classes=dict([(c[i],i+1) for i in np.arange(13)])\n",
    "r2[year]=data2\n",
    "    \n",
    "r3[year]=accident[accident['munidesc'].isin(s)]['munidesc'].value_counts()\n",
    "    \n",
    "loc=accident[['X','Y','dead','injr']]\n",
    "loc=loc.dropna(axis=0)\n",
    "accident['dead_new'] = accident['dead'].map(lambda x: x*3)\n",
    "accident['total'] = accident['dead_new'] +  accident['injr']\n",
    "loc['severlvl'] = accident['total']\n",
    "    #loc['month'] = accident['month']\n",
    "r4[year]=loc[['X','Y','severlvl']]"
   ]
  },
  {
   "cell_type": "code",
   "execution_count": 10,
   "metadata": {},
   "outputs": [],
   "source": [
    "#8.\n",
    "i=i+1\n",
    "year=2005+i\n",
    "h={}\n",
    "accident=pd.read_excel('Data/{}/UusimaaAccident.xlsx'.format(year))\n",
    "#accident=accident[accident['munidesc'].isin(s)]\n",
    "data1=accident[['accidentId','dead','injr','munidesc']]\n",
    "level=[3*data1['dead'][i] + data1['injr'][i] for i in range(len(data1))]\n",
    "data1=pd.merge(data1,pd.Series(level,name='severlvl'),left_index=True,right_index=True)\n",
    "for mun in s:\n",
    "    v=dict(data1[data1['munidesc']==mun]['severlvl'].value_counts())\n",
    "    #Here we set the level of severity for each municipality of Uusimaa.\n",
    "    h[mun]=sum([(i+1)*v[i] for i in v.keys()])/sum(v.values())\n",
    "r1[year]=h\n",
    "data2=accident[['hour','acclass','munidesc']]\n",
    "data2.loc[data2['hour']==-1,'hour']=data2.loc[data2['hour']!=-1,'hour'].mode()\n",
    "data2=data2[data2['munidesc'].isin(s)]\n",
    "#classes=dict()\n",
    "#classes=dict([(c[i],i+1) for i in np.arange(13)])\n",
    "r2[year]=data2\n",
    "    \n",
    "r3[year]=accident[accident['munidesc'].isin(s)]['munidesc'].value_counts()\n",
    "    \n",
    "loc=accident[['X','Y','dead','injr']]\n",
    "loc=loc.dropna(axis=0)\n",
    "accident['dead_new'] = accident['dead'].map(lambda x: x*3)\n",
    "accident['total'] = accident['dead_new'] +  accident['injr']\n",
    "loc['severlvl'] = accident['total']\n",
    "    #loc['month'] = accident['month']\n",
    "r4[year]=loc[['X','Y','severlvl']]"
   ]
  },
  {
   "cell_type": "code",
   "execution_count": 11,
   "metadata": {},
   "outputs": [],
   "source": [
    "#9.\n",
    "i=i+1\n",
    "year=2005+i\n",
    "h={}\n",
    "accident=pd.read_excel('Data/{}/UusimaaAccident.xlsx'.format(year))\n",
    "#accident=accident[accident['munidesc'].isin(s)]\n",
    "data1=accident[['accidentId','dead','injr','munidesc']]\n",
    "level=[3*data1['dead'][i] + data1['injr'][i] for i in range(len(data1))]\n",
    "data1=pd.merge(data1,pd.Series(level,name='severlvl'),left_index=True,right_index=True)\n",
    "for mun in s:\n",
    "    v=dict(data1[data1['munidesc']==mun]['severlvl'].value_counts())\n",
    "    #Here we set the level of severity for each municipality of Uusimaa.\n",
    "    h[mun]=sum([(i+1)*v[i] for i in v.keys()])/sum(v.values())\n",
    "r1[year]=h\n",
    "data2=accident[['hour','acclass','munidesc']]\n",
    "data2.loc[data2['hour']==-1,'hour']=data2.loc[data2['hour']!=-1,'hour'].mode()\n",
    "data2=data2[data2['munidesc'].isin(s)]\n",
    "#classes=dict()\n",
    "#classes=dict([(c[i],i+1) for i in np.arange(13)])\n",
    "r2[year]=data2\n",
    "    \n",
    "r3[year]=accident[accident['munidesc'].isin(s)]['munidesc'].value_counts()\n",
    "    \n",
    "loc=accident[['X','Y','dead','injr']]\n",
    "loc=loc.dropna(axis=0)\n",
    "accident['dead_new'] = accident['dead'].map(lambda x: x*3)\n",
    "accident['total'] = accident['dead_new'] +  accident['injr']\n",
    "loc['severlvl'] = accident['total']\n",
    "    #loc['month'] = accident['month']\n",
    "r4[year]=loc[['X','Y','severlvl']]"
   ]
  },
  {
   "cell_type": "code",
   "execution_count": 12,
   "metadata": {},
   "outputs": [],
   "source": [
    "#10.\n",
    "i=i+1\n",
    "year=2005+i\n",
    "h={}\n",
    "accident=pd.read_excel('Data/{}/UusimaaAccident.xlsx'.format(year))\n",
    "#accident=accident[accident['munidesc'].isin(s)]\n",
    "data1=accident[['accidentId','dead','injr','munidesc']]\n",
    "level=[3*data1['dead'][i] + data1['injr'][i] for i in range(len(data1))]\n",
    "data1=pd.merge(data1,pd.Series(level,name='severlvl'),left_index=True,right_index=True)\n",
    "for mun in s:\n",
    "    v=dict(data1[data1['munidesc']==mun]['severlvl'].value_counts())\n",
    "    #Here we set the level of severity for each municipality of Uusimaa.\n",
    "    h[mun]=sum([(i+1)*v[i] for i in v.keys()])/sum(v.values())\n",
    "r1[year]=h\n",
    "data2=accident[['hour','acclass','munidesc']]\n",
    "data2.loc[data2['hour']==-1,'hour']=data2.loc[data2['hour']!=-1,'hour'].mode()\n",
    "data2=data2[data2['munidesc'].isin(s)]\n",
    "#classes=dict()\n",
    "#classes=dict([(c[i],i+1) for i in np.arange(13)])\n",
    "r2[year]=data2\n",
    "    \n",
    "r3[year]=accident[accident['munidesc'].isin(s)]['munidesc'].value_counts()\n",
    "    \n",
    "loc=accident[['X','Y','dead','injr']]\n",
    "loc=loc.dropna(axis=0)\n",
    "accident['dead_new'] = accident['dead'].map(lambda x: x*3)\n",
    "accident['total'] = accident['dead_new'] +  accident['injr']\n",
    "loc['severlvl'] = accident['total']\n",
    "    #loc['month'] = accident['month']\n",
    "r4[year]=loc[['X','Y','severlvl']]"
   ]
  },
  {
   "cell_type": "code",
   "execution_count": 13,
   "metadata": {},
   "outputs": [],
   "source": [
    "#11.\n",
    "i=i+1\n",
    "year=2005+i\n",
    "h={}\n",
    "accident=pd.read_excel('Data/{}/UusimaaAccident.xlsx'.format(year))\n",
    "#accident=accident[accident['munidesc'].isin(s)]\n",
    "data1=accident[['accidentId','dead','injr','munidesc']]\n",
    "level=[3*data1['dead'][i] + data1['injr'][i] for i in range(len(data1))]\n",
    "data1=pd.merge(data1,pd.Series(level,name='severlvl'),left_index=True,right_index=True)\n",
    "for mun in s:\n",
    "    v=dict(data1[data1['munidesc']==mun]['severlvl'].value_counts())\n",
    "    #Here we set the level of severity for each municipality of Uusimaa.\n",
    "    h[mun]=sum([(i+1)*v[i] for i in v.keys()])/sum(v.values())\n",
    "r1[year]=h\n",
    "data2=accident[['hour','acclass','munidesc']]\n",
    "data2.loc[data2['hour']==-1,'hour']=data2.loc[data2['hour']!=-1,'hour'].mode()\n",
    "data2=data2[data2['munidesc'].isin(s)]\n",
    "#classes=dict()\n",
    "#classes=dict([(c[i],i+1) for i in np.arange(13)])\n",
    "r2[year]=data2\n",
    "    \n",
    "r3[year]=accident[accident['munidesc'].isin(s)]['munidesc'].value_counts()\n",
    "    \n",
    "loc=accident[['X','Y','dead','injr']]\n",
    "loc=loc.dropna(axis=0)\n",
    "accident['dead_new'] = accident['dead'].map(lambda x: x*3)\n",
    "accident['total'] = accident['dead_new'] +  accident['injr']\n",
    "loc['severlvl'] = accident['total']\n",
    "    #loc['month'] = accident['month']\n",
    "r4[year]=loc[['X','Y','severlvl']]"
   ]
  },
  {
   "cell_type": "code",
   "execution_count": 14,
   "metadata": {},
   "outputs": [],
   "source": [
    "#12.\n",
    "i=i+1\n",
    "year=2005+i\n",
    "h={}\n",
    "accident=pd.read_excel('Data/{}/UusimaaAccident.xlsx'.format(year))\n",
    "#accident=accident[accident['munidesc'].isin(s)]\n",
    "data1=accident[['accidentId','dead','injr','munidesc']]\n",
    "level=[3*data1['dead'][i] + data1['injr'][i] for i in range(len(data1))]\n",
    "data1=pd.merge(data1,pd.Series(level,name='severlvl'),left_index=True,right_index=True)\n",
    "for mun in s:\n",
    "    v=dict(data1[data1['munidesc']==mun]['severlvl'].value_counts())\n",
    "    #Here we set the level of severity for each municipality of Uusimaa.\n",
    "    h[mun]=sum([(i+1)*v[i] for i in v.keys()])/sum(v.values())\n",
    "r1[year]=h\n",
    "data2=accident[['hour','acclass','munidesc']]\n",
    "data2.loc[data2['hour']==-1,'hour']=data2.loc[data2['hour']!=-1,'hour'].mode()\n",
    "data2=data2[data2['munidesc'].isin(s)]\n",
    "#classes=dict()\n",
    "#classes=dict([(c[i],i+1) for i in np.arange(13)])\n",
    "r2[year]=data2\n",
    "    \n",
    "r3[year]=accident[accident['munidesc'].isin(s)]['munidesc'].value_counts()\n",
    "    \n",
    "loc=accident[['X','Y','dead','injr']]\n",
    "loc=loc.dropna(axis=0)\n",
    "accident['dead_new'] = accident['dead'].map(lambda x: x*3)\n",
    "accident['total'] = accident['dead_new'] +  accident['injr']\n",
    "loc['severlvl'] = accident['total']\n",
    "    #loc['month'] = accident['month']\n",
    "r4[year]=loc[['X','Y','severlvl']]"
   ]
  },
  {
   "cell_type": "code",
   "execution_count": 15,
   "metadata": {},
   "outputs": [],
   "source": [
    "#13.\n",
    "i=i+1\n",
    "year=2005+i\n",
    "h={}\n",
    "accident=pd.read_excel('Data/{}/UusimaaAccident.xlsx'.format(year))\n",
    "#accident=accident[accident['munidesc'].isin(s)]\n",
    "data1=accident[['accidentId','dead','injr','munidesc']]\n",
    "level=[3*data1['dead'][i] + data1['injr'][i] for i in range(len(data1))]\n",
    "data1=pd.merge(data1,pd.Series(level,name='severlvl'),left_index=True,right_index=True)\n",
    "for mun in s:\n",
    "    v=dict(data1[data1['munidesc']==mun]['severlvl'].value_counts())\n",
    "    #Here we set the level of severity for each municipality of Uusimaa.\n",
    "    h[mun]=sum([(i+1)*v[i] for i in v.keys()])/sum(v.values())\n",
    "r1[year]=h\n",
    "data2=accident[['hour','acclass','munidesc']]\n",
    "data2.loc[data2['hour']==-1,'hour']=data2.loc[data2['hour']!=-1,'hour'].mode()\n",
    "data2=data2[data2['munidesc'].isin(s)]\n",
    "#classes=dict()\n",
    "#classes=dict([(c[i],i+1) for i in np.arange(13)])\n",
    "r2[year]=data2\n",
    "    \n",
    "r3[year]=accident[accident['munidesc'].isin(s)]['munidesc'].value_counts()\n",
    "    \n",
    "loc=accident[['X','Y','dead','injr']]\n",
    "loc=loc.dropna(axis=0)\n",
    "accident['dead_new'] = accident['dead'].map(lambda x: x*3)\n",
    "accident['total'] = accident['dead_new'] +  accident['injr']\n",
    "loc['severlvl'] = accident['total']\n",
    "    #loc['month'] = accident['month']\n",
    "r4[year]=loc[['X','Y','severlvl']]"
   ]
  },
  {
   "cell_type": "code",
   "execution_count": 16,
   "metadata": {},
   "outputs": [],
   "source": [
    "bluedata=r1\n",
    "hourdata=r2\n",
    "mundata=r3\n",
    "locdata=r4"
   ]
  },
  {
   "cell_type": "code",
   "execution_count": 17,
   "metadata": {},
   "outputs": [],
   "source": [
    "#Uusimaa on the map\n",
    "with open('Data/Uusimaa.txt') as u:\n",
    "    u=open('Data/Uusimaa.txt')\n",
    "    Uusimaa=json.loads(u.read())\n",
    "df=json_normalize(Uusimaa['features'])\n",
    "c=pd.Series(df['geometry.coordinates'].fillna(df['geometry.geometries']),name='Shapes')\n",
    "df=df.join(c)\n",
    "#print(df['properties.name'])\n",
    "df['properties.name'][5]='Hyvinkää'\n",
    "df['properties.name'][7]='Järvenpää'\n",
    "df['properties.name'][12]='Lapinjärvi'\n",
    "df['properties.name'][14]='Myrskylä'\n",
    "df['properties.name'][15]='Mäntsälä'\n",
    "df['properties.name'][16]='Nurmijärvi'\n",
    "#print(df['properties.name'])\n",
    "#k=0\n",
    "#inProj = Proj(init='epsg:4258')\n",
    "#outProj = Proj(init='epsg:3067')\n",
    "#print('MAP DRAWN')"
   ]
  },
  {
   "cell_type": "code",
   "execution_count": 18,
   "metadata": {},
   "outputs": [],
   "source": [
    "def plot(year):\n",
    "    matplotlib.rcParams['figure.figsize'] = [12.8, 7.2]\n",
    "    mun=[]\n",
    "    clist=['cyan','deepskyblue','dodgerblue','royalblue','blue','darkblue']\n",
    "    heat=bluedata[year]\n",
    "    c='white'\n",
    "    for i in range(len(df)):\n",
    "        t=df['Shapes'][i]\n",
    "        mun.append(df['properties.name'][i])\n",
    "        if heat[df['properties.name'][i]]<=1:\n",
    "            c=clist[0]\n",
    "        if (heat[df['properties.name'][i]]>1) & (heat[df['properties.name'][i]]<=1.25) :\n",
    "            c=clist[1]\n",
    "        if (heat[df['properties.name'][i]]>1.25) & (heat[df['properties.name'][i]]<=1.50) :\n",
    "            c=clist[2]\n",
    "        if (heat[df['properties.name'][i]]>1.50) & (heat[df['properties.name'][i]]<=1.75) :\n",
    "            c=clist[3]\n",
    "        if (heat[df['properties.name'][i]]>1.75) & (heat[df['properties.name'][i]]<=2.00) :\n",
    "            c=clist[4]\n",
    "        if heat[df['properties.name'][i]]>2.0:\n",
    "            c=clist[5]\n",
    "            \n",
    "        if len(t)==1:\n",
    "            x=[t[0][l][0] for l in range(len(t[0]))]\n",
    "            y=[t[0][l][1] for l in range(len(t[0]))]\n",
    "    #        x,y=transform(inProj,outProj,x,y)\n",
    "            plt.fill(x,y,c)\n",
    "            plt.plot(x,y,c='k',linewidth=0.5)\n",
    "                \n",
    "                \n",
    "        else:\n",
    "            for s in t:\n",
    "                x=[s['coordinates'][0][l][0] for l in range(len(s['coordinates'][0]))]\n",
    "                y=[s['coordinates'][0][l][1] for l in range(len(s['coordinates'][0]))]\n",
    "                #x,y=transform(inProj,outProj,x,y)\n",
    "                plt.fill(x,y,c)\n",
    "                plt.plot(x,y,c='k',linewidth=0.5)\n",
    "                p1=mpatches.Patch(color=clist[0], label='<=1.0')\n",
    "                p2=mpatches.Patch(color=clist[1], label='1.01-1.25')\n",
    "                p3=mpatches.Patch(color=clist[2], label='1.26-1.50')\n",
    "                p4=mpatches.Patch(color=clist[3], label='1.51-1.75')\n",
    "                p5=mpatches.Patch(color=clist[4], label='1.76-2.00')\n",
    "                p6=mpatches.Patch(color=clist[5], label='>2.0')\n",
    "    patches=[p1,p2,p3,p4,p5,p6]\n",
    "    plt.legend(bbox_to_anchor=(1.05,1.00),handles=patches)\n",
    "    plt.title('Relative severity of traffic accidents in the municipalities of Uusimaa during the year {}'.format(year))"
   ]
  },
  {
   "cell_type": "markdown",
   "metadata": {},
   "source": [
    "Where are the traffic accidents most severe?"
   ]
  },
  {
   "cell_type": "code",
   "execution_count": 19,
   "metadata": {},
   "outputs": [
    {
     "data": {
      "application/vnd.jupyter.widget-view+json": {
       "model_id": "d94e1ace89dd47328bd32c56fa80b155",
       "version_major": 2,
       "version_minor": 0
      },
      "text/plain": [
       "interactive(children=(IntSlider(value=2005, description='year', max=2017, min=2005), Button(description='Run I…"
      ]
     },
     "metadata": {},
     "output_type": "display_data"
    }
   ],
   "source": [
    "im1=interact_manual(plot,year=IntSlider(min=2005, max=2017, step=1),description=\"SELECT THE YEAR\")\n",
    "im1.widget.children[1].description=(\"Select a year\")"
   ]
  },
  {
   "cell_type": "code",
   "execution_count": 20,
   "metadata": {},
   "outputs": [],
   "source": [
    "def map(year):\n",
    "    loc=locdata[year]\n",
    "    lats = loc['Y']\n",
    "    lons = loc['X']\n",
    "    lats = lats.tolist()\n",
    "    lons = lons.tolist()\n",
    "    p1 = Proj(init='epsg:3067')\n",
    "    p2 = Proj(init='epsg:4326')\n",
    "    x1, y1 = lons,lats\n",
    "    x2, y2 = transform(p1, p2, x1, y1)\n",
    "    location={\"lats\" : y2,\n",
    "       \"lons\" : x2}\n",
    "    crd=pd.DataFrame(location)\n",
    "    crd=crd[(crd['lats']<61) & (crd['lats']>59) & \n",
    "           (crd['lons']<26.7) & (crd['lons']>22.5)]\n",
    "    crd=crd.dropna(axis=0)\n",
    "    map_osm = folium.Map(location=[crd['lats'].mean(), crd['lons'].mean()], zoom_start=10)\n",
    "    tupxy = [tuple(x) for x in crd[[\"lats\",\"lons\"]].values]\n",
    "    for coord in tupxy:\n",
    "        folium.Marker(location=[coord[0], coord[1]],\n",
    "                      radius=10,\n",
    "                      color='#3186cc',\n",
    "                      fill_color='#3186cc',\n",
    "                     ).add_to(map_osm)\n",
    "    display(map_osm)"
   ]
  },
  {
   "cell_type": "markdown",
   "metadata": {},
   "source": [
    "The following will show you the precise locations of each traffic accident in Uusimaa."
   ]
  },
  {
   "cell_type": "code",
   "execution_count": 21,
   "metadata": {},
   "outputs": [
    {
     "data": {
      "application/vnd.jupyter.widget-view+json": {
       "model_id": "e99bb1653fb547509a1486683036da73",
       "version_major": 2,
       "version_minor": 0
      },
      "text/plain": [
       "interactive(children=(IntSlider(value=2009, description='year', max=2017, min=2009), Button(description='Run I…"
      ]
     },
     "metadata": {},
     "output_type": "display_data"
    }
   ],
   "source": [
    "im2=interact_manual(map,year=IntSlider(min=2009, max=2017, step=1),description=\"SELECT THE YEAR\")\n",
    "im2.widget.children[1].description=(\"Select a year\")"
   ]
  },
  {
   "cell_type": "code",
   "execution_count": 22,
   "metadata": {},
   "outputs": [],
   "source": [
    "def heatmap(year):\n",
    "    loc=locdata[year]\n",
    "    lats = loc['Y']\n",
    "    lons = loc['X']\n",
    "    lvl = loc['severlvl']\n",
    "    lats = lats.tolist()\n",
    "    lons = lons.tolist()\n",
    "    p1 = Proj(init='epsg:3067')\n",
    "    p2 = Proj(init='epsg:4326')\n",
    "    x1, y1 = lons,lats\n",
    "    x2, y2 = transform(p1, p2, x1, y1)\n",
    "    location={\"lats\" : y2,\n",
    "       \"lons\" : x2, \"severlvl\" : lvl}\n",
    "    crd=pd.DataFrame(location)\n",
    "    crd=crd[(crd['lats']<61) & (crd['lats']>59) & \n",
    "           (crd['lons']<26.7) & (crd['lons']>22.5)]\n",
    "    crd=crd.dropna(axis=0)\n",
    "    map_osm = folium.Map(location=[crd['lats'].mean(), crd['lons'].mean()], zoom_start=10)\n",
    "    tupxy = [tuple(x) for x in crd[[\"lats\",\"lons\"]].values]\n",
    "    for coord in tupxy:\n",
    "        folium.Marker(location=[coord[0], coord[1]],\n",
    "                      radius=10,\n",
    "                      color='#3186cc',\n",
    "                      fill_color='#3186cc',\n",
    "                     ).add_to(map_osm)\n",
    "    data = crd[['lats', 'lons', 'severlvl']].values.tolist()\n",
    "    hmap = folium.Map(location=[crd['lats'].mean(), crd['lons'].mean()], tiles='stamentoner',\n",
    "                      control_scale=True, zoom_start=13)\n",
    "    #hmap.add_child(HeatMap(data, radius=15, gradient={.3: 'blue', .55: 'lime', .8: 'yellow'}))\n",
    "    #hmap.add_child(HeatMap(data, radius=10, gradient={.3: 'blue', 0: 'lime', 0: 'yellow'}))\n",
    "    hmap.add_child(HeatMap(data, radius=10, gradient={0.3: 'blue', 0.55: 'orange'}))\n",
    "    display(hmap)"
   ]
  },
  {
   "cell_type": "markdown",
   "metadata": {},
   "source": [
    "The following will print a heatmap of the severity of the accidents in Uusimaa."
   ]
  },
  {
   "cell_type": "code",
   "execution_count": 23,
   "metadata": {},
   "outputs": [
    {
     "data": {
      "application/vnd.jupyter.widget-view+json": {
       "model_id": "df18b4cab6b6472382f67ca2f2a50c8c",
       "version_major": 2,
       "version_minor": 0
      },
      "text/plain": [
       "interactive(children=(IntSlider(value=2009, description='year', max=2017, min=2009), Button(description='Run I…"
      ]
     },
     "metadata": {},
     "output_type": "display_data"
    }
   ],
   "source": [
    "im3=interact_manual(heatmap,year=IntSlider(min=2009, max=2017, step=1),description=\"SELECT THE YEAR\")\n",
    "im3.widget.children[1].description=(\"Select a year\")"
   ]
  },
  {
   "cell_type": "code",
   "execution_count": 24,
   "metadata": {},
   "outputs": [],
   "source": [
    "accident=pd.read_excel('Data/2017/UusimaaAccident.xlsx')\n",
    "accident=accident[['hour','acclass','munidesc']]\n",
    "accident['hour']=accident['hour'].replace([-1],accident['hour'].mode())\n",
    "#print(accident['hour'].unique())\n",
    "c=['a single-class','a turning-class','a passing-class','a crossing-class','an encounter-class','a rear-end collision',\n",
    "    'a moped-class','a bicycle-class','a pedestrian-class','a moose-class','a deer-class','an other animal-class','unclassified']\n",
    "labels=['single','turn','pass','cross','enc','rear','mop',\n",
    "        'bike','ped','moose','deer','anim','oth']\n",
    "data2=accident[['hour','acclass','munidesc']]\n",
    "data2=data2[data2['munidesc'].isin(s)]\n",
    "#classes=dict()\n",
    "classes=dict([(c[i],i+1) for i in np.arange(13)])"
   ]
  },
  {
   "cell_type": "code",
   "execution_count": 25,
   "metadata": {},
   "outputs": [],
   "source": [
    "def barplot1(year):\n",
    "    matplotlib.rcParams['figure.figsize'] = [6.4, 4.8]\n",
    "    values=mundata[year]\n",
    "    kunnat=list(values.index)\n",
    "    arvot=list(values.values)\n",
    "    #print(kunnat)\n",
    "    #print(arvot)\n",
    "    arvot=[values[values.index==s1].values[0] for s1 in s]\n",
    "    #print(s)\n",
    "    #print(arvot)\n",
    "    plt.figure(figsize=(9,6))\n",
    "    plt.barh(np.arange(len(s)),arvot,alpha=1)\n",
    "    plt.yticks(np.arange(len(s)),s)\n",
    "    plt.xlabel('Number of accidents')\n",
    "    plt.xlim((0,3500))\n",
    "    plt.title('Accidents in Uusimaa during year {}.'.format(year))\n",
    "    plt.show()\n",
    "    "
   ]
  },
  {
   "cell_type": "markdown",
   "metadata": {},
   "source": [
    "Traffic accidents by municipality."
   ]
  },
  {
   "cell_type": "code",
   "execution_count": 26,
   "metadata": {},
   "outputs": [
    {
     "data": {
      "application/vnd.jupyter.widget-view+json": {
       "model_id": "6479285e60b8403699662ba50b5db69f",
       "version_major": 2,
       "version_minor": 0
      },
      "text/plain": [
       "IntSlider(value=2005, max=2017, min=2005)"
      ]
     },
     "metadata": {},
     "output_type": "display_data"
    },
    {
     "data": {
      "application/vnd.jupyter.widget-view+json": {
       "model_id": "ef55d80b978743bd9480626607c66657",
       "version_major": 2,
       "version_minor": 0
      },
      "text/plain": [
       "Output(layout=Layout(height='400px'))"
      ]
     },
     "metadata": {},
     "output_type": "display_data"
    }
   ],
   "source": [
    "#im4=interact_manual(barplot1,year=IntSlider(min=2005, max=2017, step=1),description=\"SELECT THE YEAR\")\n",
    "#im4.widget.children[1].description=(\"Select a year\")\n",
    "\n",
    "slider=IntSlider(min=2005, max=2017, step=1)\n",
    "im4=widgets.interactive_output(barplot1,{'year':slider})\n",
    "im4.layout.height='400px'\n",
    "display(slider,im4)"
   ]
  },
  {
   "cell_type": "code",
   "execution_count": 27,
   "metadata": {},
   "outputs": [],
   "source": [
    "def barplot2(acclass,year):\n",
    "    #matplotlib.rcParams['figure.figsize'] = [6.4, 4.8]\n",
    "    matplotlib.rcParams['figure.figsize'] = [8.0, 3.6]\n",
    "    funcdata=hourdata[year]\n",
    "    colname='hour'\n",
    "    s=['Espoo','Helsinki','Hyvinkää','Järvenpää','Karkkila',\n",
    "    'Kauniainen','Kerava','Kirkkonummi','Lohja','Mäntsälä',\n",
    "    'Nurmijärvi','Pornainen','Sipoo','Siuntio','Tuusula',\n",
    "    'Vantaa','Vihti','Lapinjärvi','Loviisa','Askola',\n",
    "    'Myrskylä','Porvoo','Pukkila','Hanko','Inkoo','Raasepori']\n",
    "    #accident=accident[accident['munidesc'].isin(s)]\n",
    "    #values=accident[accident['acclass']==acclass][colname].value_counts()\n",
    "    values=funcdata[funcdata['acclass']==classes[acclass]][colname].value_counts()\n",
    "    hours=list(values.index)\n",
    "    counted=list(values.values)\n",
    "    x=np.arange(24)\n",
    "    for i in np.arange(24):\n",
    "        if i+1 in hours:\n",
    "            x[i]=values[i+1]\n",
    "        else:\n",
    "            x[i]=0\n",
    "    plt.bar(np.arange(24)+1,x,alpha=1)\n",
    "    plt.xticks(np.arange(24)+1)\n",
    "    #a.set_xticklabels(np.arange(24)+1)\n",
    "    plt.ylabel('Number of accidents')\n",
    "    plt.ylim((0,200))\n",
    "    plt.xlabel('Hour of the day')\n",
    "    classname=acclass\n",
    "    plt.title('Accidents classified as \\'{}\\' during the year {}.'.format(classname,year))"
   ]
  },
  {
   "cell_type": "markdown",
   "metadata": {},
   "source": [
    "What kind of traffic accidents are most frequent during certain hours of the day?"
   ]
  },
  {
   "cell_type": "code",
   "execution_count": 28,
   "metadata": {
    "scrolled": true
   },
   "outputs": [
    {
     "data": {
      "application/vnd.jupyter.widget-view+json": {
       "model_id": "ddfca8eefc444262bc720d1c0657759f",
       "version_major": 2,
       "version_minor": 0
      },
      "text/plain": [
       "HBox(children=(Dropdown(description='Class:', options=('a single-class', 'a turning-class', 'a passing-class',…"
      ]
     },
     "metadata": {},
     "output_type": "display_data"
    },
    {
     "data": {
      "application/vnd.jupyter.widget-view+json": {
       "model_id": "c802d718583c4031a3e01467d3068d34",
       "version_major": 2,
       "version_minor": 0
      },
      "text/plain": [
       "Output(layout=Layout(height='300px'))"
      ]
     },
     "metadata": {},
     "output_type": "display_data"
    }
   ],
   "source": [
    "drop=widgets.Dropdown(options=c,description='Class:')\n",
    "slider=IntSlider(min=2005, max=2017, step=1)\n",
    "box=widgets.HBox([drop,slider])\n",
    "im5=widgets.interactive_output(barplot2,{'acclass':drop,'year':slider})\n",
    "im5.layout.height='300px'\n",
    "display(box,im5)"
   ]
  },
  {
   "cell_type": "code",
   "execution_count": null,
   "metadata": {},
   "outputs": [],
   "source": []
  }
 ],
 "metadata": {
  "kernelspec": {
   "display_name": "Python 3",
   "language": "python",
   "name": "python3"
  },
  "language_info": {
   "codemirror_mode": {
    "name": "ipython",
    "version": 3
   },
   "file_extension": ".py",
   "mimetype": "text/x-python",
   "name": "python",
   "nbconvert_exporter": "python",
   "pygments_lexer": "ipython3",
   "version": "3.7.3"
  }
 },
 "nbformat": 4,
 "nbformat_minor": 2
}
